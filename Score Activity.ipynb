{
 "cells": [
  {
   "cell_type": "code",
   "execution_count": 17,
   "metadata": {},
   "outputs": [
    {
     "name": "stdout",
     "output_type": "stream",
     "text": [
      "Name: CoCaNet2\n",
      "Nodes: 36\n",
      "Edges: 37\n",
      "Node Attributes: 742\n",
      "Edge Attributes: 517\n",
      "\n",
      "Success.  Please continue.\n",
      "Generating CX\n",
      "http://public.ndexbio.org/v2/network/4f4149ea-95ec-11e9-bcaf-0ac135e8bacf\n"
     ]
    }
   ],
   "source": [
    "from random import randrange\n",
    "import ndex2.client as nc\n",
    "import io\n",
    "import json\n",
    "from IPython.display import HTML\n",
    "from time import sleep\n",
    "from ndex2.nice_cx_network import NiceCXNetwork\n",
    "import ndex2\n",
    "import networkx as nx\n",
    "import pandas as pd\n",
    "import os\n",
    "import array as arr\n",
    "import matplotlib\n",
    "%matplotlib inline\n",
    "import matplotlib.pyplot as plt\n",
    "import ndex2\n",
    "import networkx\n",
    "import getpass\n",
    "import sys\n",
    "\n",
    "\n",
    "my_server='public.ndexbio.org'\n",
    "my_account='starwars0411'\n",
    "my_password='0y&#iI57M7'\n",
    "my_uuid='b57b753c-8e22-11e9-bcaf-0ac135e8bacf'\n",
    "range_of_numbers=10\n",
    "\n",
    "range_of_numbers + 1 == range_of_numbers\n",
    "\n",
    "nice_cx_from_server = ndex2.create_nice_cx_from_server(server=my_server, username=my_account, password=my_password, uuid=my_uuid)\n",
    "\n",
    "        \n",
    "for node_id, node in nice_cx_from_server.get_nodes():\n",
    "    nice_cx_from_server.add_node_attribute(node_id, name='score', values=randrange(range_of_numbers))\n",
    "    \n",
    "\n",
    "nice_cx_from_server.print_summary()\n",
    "\n",
    "sys.getrecursionlimit()\n",
    "if my_account == 'enter your username here':\n",
    "    print('*******WARNING!!!!*******')\n",
    "    print('Please change the username and password before proceeding')\n",
    "else:\n",
    "    try:\n",
    "        my_ndex=nc.Ndex2(my_server, my_account, my_password)\n",
    "        my_ndex.update_status()\n",
    "        print(\"Success.  Please continue.\")\n",
    "        \n",
    "    except Exception as inst:\n",
    "        print(\"Could not access account %s with password %s\" % (my_account, my_password))\n",
    "        print(inst.args)\n",
    "        \n",
    "\n",
    "if my_account == 'enter your username here':\n",
    "    print('*******WARNING!!!!*******')\n",
    "    print('Please change the username and password before proceeding')\n",
    "else:\n",
    "    upload_message = nice_cx_from_server.upload_to(my_server, my_account, my_password)\n",
    "    print(upload_message)\n",
    "    \n"
   ]
  }
 ],
 "metadata": {
  "celltoolbar": "Edit Metadata",
  "kernelspec": {
   "display_name": "Python 3",
   "language": "python",
   "name": "python3"
  },
  "language_info": {
   "codemirror_mode": {
    "name": "ipython",
    "version": 3
   },
   "file_extension": ".py",
   "mimetype": "text/x-python",
   "name": "python",
   "nbconvert_exporter": "python",
   "pygments_lexer": "ipython3",
   "version": "3.7.1"
  }
 },
 "nbformat": 4,
 "nbformat_minor": 2
}
